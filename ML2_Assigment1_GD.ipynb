{
  "nbformat": 4,
  "nbformat_minor": 0,
  "metadata": {
    "colab": {
      "name": "ML2_Assigment1_GD.ipynb",
      "provenance": [],
      "authorship_tag": "ABX9TyNGBl02GgNo+oINmGGyAQOF",
      "include_colab_link": true
    },
    "kernelspec": {
      "name": "python3",
      "display_name": "Python 3"
    }
  },
  "cells": [
    {
      "cell_type": "markdown",
      "metadata": {
        "id": "view-in-github",
        "colab_type": "text"
      },
      "source": [
        "<a href=\"https://colab.research.google.com/github/lethithuhong1302/hoc_Tensorflow/blob/master/ML2_Assigment1_GD.ipynb\" target=\"_parent\"><img src=\"https://colab.research.google.com/assets/colab-badge.svg\" alt=\"Open In Colab\"/></a>"
      ]
    },
    {
      "cell_type": "markdown",
      "metadata": {
        "id": "dlzDThIG1ARi",
        "colab_type": "text"
      },
      "source": [
        "# Tìm cực trị hàm số f(x)=x**2 +5sin(x) dùng gradient descent\n",
        " **grad** tính đạo hàm\n",
        "\n",
        "**cost**  tính giá trị của hàm số. Hàm này không sử dụng trong thuật toán nhưng thường được dùng để kiểm tra việc tính đạo hàm của đúng không hoặc để xem giá trị của hàm số có giảm theo mỗi vòng lặp hay không.\n",
        "\n",
        "**myGD1** thực hiện thuật toán Gradient Desent. Đầu vào của hàm: learning rate và điểm bắt đầu. Thuật toán dừng lại khi đạo hàm có độ lớn đủ nhỏ."
      ]
    },
    {
      "cell_type": "code",
      "metadata": {
        "id": "iTvCBNKv00Pl",
        "colab_type": "code",
        "colab": {}
      },
      "source": [
        "from __future__ import division, print_function, unicode_literals\n",
        "import math\n",
        "import numpy as np \n",
        "import matplotlib.pyplot as plt"
      ],
      "execution_count": 0,
      "outputs": []
    },
    {
      "cell_type": "code",
      "metadata": {
        "id": "4O9BYsOh2K9q",
        "colab_type": "code",
        "colab": {}
      },
      "source": [
        "def grad(x):\n",
        "    return 2*x+ 5*np.cos(x)\n",
        "\n",
        "def cost(x):\n",
        "    return x**2 + 5*np.sin(x)\n",
        "\n",
        "def myGD1(eta, x0):\n",
        "    x = [x0]\n",
        "    for it in range(100):\n",
        "        x_new = x[-1] - eta*grad(x[-1])\n",
        "        if abs(grad(x_new)) < 1e-3:\n",
        "            break\n",
        "        x.append(x_new)\n",
        "    return (x, it)"
      ],
      "execution_count": 0,
      "outputs": []
    },
    {
      "cell_type": "code",
      "metadata": {
        "id": "_KIcLYgw2wjV",
        "colab_type": "code",
        "colab": {
          "base_uri": "https://localhost:8080/",
          "height": 53
        },
        "outputId": "ae13877e-81ac-4342-8334-88ee6bfd5e19"
      },
      "source": [
        "# thử tìm nghiệm với learning rate=0.01 các điểm khởi tạo khác nhau:  x0=2 và x0=-2\n",
        "(x1, it1) = myGD1(.01, -2)\n",
        "(x2, it2) = myGD1(.01, 2)\n",
        "print('Solution x1 = %f, cost = %f, obtained after %d iterations'%(x1[-1], cost(x1[-1]), it1))\n",
        "print('Solution x2 = %f, cost = %f, obtained after %d iterations'%(x2[-1], cost(x2[-1]), it2))"
      ],
      "execution_count": 7,
      "outputs": [
        {
          "output_type": "stream",
          "text": [
            "Solution x1 = -1.111497, cost = -3.246391, obtained after 99 iterations\n",
            "Solution x2 = -1.050677, cost = -3.234877, obtained after 99 iterations\n"
          ],
          "name": "stdout"
        }
      ]
    },
    {
      "cell_type": "code",
      "metadata": {
        "id": "r0a8C1BQ3tkv",
        "colab_type": "code",
        "colab": {
          "base_uri": "https://localhost:8080/",
          "height": 53
        },
        "outputId": "dfedeb6a-9c83-4000-c91f-564d4d0a56d3"
      },
      "source": [
        "# thử tìm nghiệm với learning rate=0.05 các điểm khởi tạo khác nhau:  x0=2 và x0=-2\n",
        "(x1, it1) = myGD1(.05, -2)\n",
        "(x2, it2) = myGD1(.05, 2)\n",
        "print('Solution x1 = %f, cost = %f, obtained after %d iterations'%(x1[-1], cost(x1[-1]), it1))\n",
        "print('Solution x2 = %f, cost = %f, obtained after %d iterations'%(x2[-1], cost(x2[-1]), it2))"
      ],
      "execution_count": 8,
      "outputs": [
        {
          "output_type": "stream",
          "text": [
            "Solution x1 = -1.110719, cost = -3.246394, obtained after 21 iterations\n",
            "Solution x2 = -1.110317, cost = -3.246394, obtained after 34 iterations\n"
          ],
          "name": "stdout"
        }
      ]
    }
  ]
}